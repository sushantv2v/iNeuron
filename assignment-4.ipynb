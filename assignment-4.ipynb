{
 "cells": [
  {
   "cell_type": "markdown",
   "metadata": {},
   "source": [
    "Question 1 : Write a Python Program(with class concepts) to find the area of the triangle using the below formula.\n",
    "\n",
    "area = (s(s-a)(s-b)*(s-c)) ** 0.5\n",
    "\n",
    "Function to take the length of the sides of triangle from user should be defined in the parent class and function to calculate the area should be defined in subclass."
   ]
  },
  {
   "cell_type": "code",
   "execution_count": 2,
   "metadata": {},
   "outputs": [
    {
     "name": "stdout",
     "output_type": "stream",
     "text": [
      "Enter first side: 4\n",
      "Enter second side: 5\n",
      "Enter third side: 6\n",
      "area of the given tringle is : 9.921567416492215\n"
     ]
    }
   ],
   "source": [
    "import math\n",
    "class tringle:\n",
    "    def __init__(self):\n",
    "        \n",
    "        self.side1= float(input('Enter first side: '))\n",
    "        self.side2 = float(input('Enter second side: '))\n",
    "        self.side3 = float(input('Enter third side: '))\n",
    "class area_tringle(tringle):\n",
    "    def f_area(self):\n",
    "        s = (self.side1+ self.side2 + self.side3)/2\n",
    "        area = float(math.sqrt(s*(s-self.side1)*(s-self.side2)*(s-self.side3)))\n",
    "        return area        \n",
    "a = area_tringle()\n",
    "print(\"area of the given tringle is : {}\".format(a.f_area()))  \n",
    "        "
   ]
  },
  {
   "cell_type": "markdown",
   "metadata": {},
   "source": [
    "Q1.2 Write a function filter_long_words() that takes a list of words and an integer n and returns the list of words that are longer than n."
   ]
  },
  {
   "cell_type": "code",
   "execution_count": 16,
   "metadata": {},
   "outputs": [
    {
     "name": "stdout",
     "output_type": "stream",
     "text": [
      "Enter words sepreated by comma: Sushant, verma, mew\n",
      "Enter length of words to keep: 4\n",
      "words larger than 4 are Sushant,  verma\n"
     ]
    }
   ],
   "source": [
    "def filter_long_words(wordlist, n):\n",
    "    return filter(lambda x : len(x) >n ,wordlist)\n",
    "\n",
    "def main():\n",
    "    words = input('Enter words sepreated by comma: ').split(',')\n",
    "    length = int(input('Enter length of words to keep: '))\n",
    "    print('words larger than {} are {}'.format(length, ', '.join(filter_long_words(words, length))))\n",
    "    \n",
    "    \n",
    "    \n",
    "if __name__ =='__main__':\n",
    "    main()\n",
    "    "
   ]
  },
  {
   "cell_type": "markdown",
   "metadata": {},
   "source": [
    "Q2.1 Write a Python program using function concept that maps list of words into a list of integers representing the lengths of the corresponding words​. Hint: ​If a list [ ab,cde,erty] is passed on to the python function output should come as [2,3,4] Here 2,3 and 4 are the lengths of the words in the list."
   ]
  },
  {
   "cell_type": "code",
   "execution_count": 20,
   "metadata": {},
   "outputs": [
    {
     "name": "stdout",
     "output_type": "stream",
     "text": [
      "following are the length of the words in list [2, 3, 4]\n"
     ]
    }
   ],
   "source": [
    "def map_length(words):\n",
    "    return [len(word) for word in words]\n",
    "\n",
    "if __name__ =='__main__':\n",
    "    words = [ 'ab','cde','erty']\n",
    "    print('following are the length of the words in list {}'.format(map_length(words)))\n",
    "    \n",
    "    "
   ]
  },
  {
   "cell_type": "markdown",
   "metadata": {},
   "source": [
    "Q2.2 Write a Python function which takes a character (i.e. a string of length 1) and returns True if it is a vowel, False otherwise."
   ]
  },
  {
   "cell_type": "code",
   "execution_count": 30,
   "metadata": {},
   "outputs": [
    {
     "name": "stdout",
     "output_type": "stream",
     "text": [
      "please enter your character:b\n",
      "False\n"
     ]
    }
   ],
   "source": [
    "def is_vowel(char):\n",
    "    vowel = ('a','e','i','o','u')\n",
    "    \n",
    "    if char  in vowel:\n",
    "        return True\n",
    "    else:\n",
    "           return False\n",
    "\n",
    "        \n",
    "if __name__ == '__main__':\n",
    "    ch = str(input('please enter your character:'))\n",
    "    print(is_vowel(ch))"
   ]
  },
  {
   "cell_type": "code",
   "execution_count": null,
   "metadata": {},
   "outputs": [],
   "source": []
  }
 ],
 "metadata": {
  "kernelspec": {
   "display_name": "Python 3",
   "language": "python",
   "name": "python3"
  },
  "language_info": {
   "codemirror_mode": {
    "name": "ipython",
    "version": 3
   },
   "file_extension": ".py",
   "mimetype": "text/x-python",
   "name": "python",
   "nbconvert_exporter": "python",
   "pygments_lexer": "ipython3",
   "version": "3.7.4"
  }
 },
 "nbformat": 4,
 "nbformat_minor": 2
}
